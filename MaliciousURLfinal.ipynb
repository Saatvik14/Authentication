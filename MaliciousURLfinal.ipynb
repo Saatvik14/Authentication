{
  "cells": [
    {
      "cell_type": "markdown",
      "metadata": {
        "id": "view-in-github",
        "colab_type": "text"
      },
      "source": [
        "<a href=\"https://colab.research.google.com/github/Saatvik14/Authentication/blob/master/MaliciousURLfinal.ipynb\" target=\"_parent\"><img src=\"https://colab.research.google.com/assets/colab-badge.svg\" alt=\"Open In Colab\"/></a>"
      ]
    },
    {
      "cell_type": "markdown",
      "metadata": {
        "id": "Sh_iGFetgN2U"
      },
      "source": [
        "#                    DETECTION OF MALICIOUS URLs"
      ]
    },
    {
      "cell_type": "code",
      "execution_count": null,
      "metadata": {
        "id": "_IcfMgdNgN2a"
      },
      "outputs": [],
      "source": [
        "# importing libraries\n",
        "import pandas as pd\n",
        "import numpy as np\n",
        "import matplotlib.pyplot as plt\n",
        "import random\n",
        "import seaborn as sns"
      ]
    },
    {
      "cell_type": "code",
      "execution_count": null,
      "metadata": {
        "id": "foBBg2I4gN2d"
      },
      "outputs": [],
      "source": [
        "#libraries for data processing \n",
        "from sklearn.model_selection import train_test_split\n",
        "from sklearn.feature_extraction.text import TfidfVectorizer\n",
        "from sklearn.feature_extraction.text import CountVectorizer"
      ]
    },
    {
      "cell_type": "code",
      "execution_count": null,
      "metadata": {
        "id": "uQgGPIy_nDOZ"
      },
      "outputs": [],
      "source": [
        "#from google.colab import drive\n",
        "#drive.mount('/content/drive')"
      ]
    },
    {
      "cell_type": "code",
      "execution_count": null,
      "metadata": {
        "colab": {
          "base_uri": "https://localhost:8080/",
          "height": 206
        },
        "id": "43IcLyTTgN2h",
        "outputId": "a6a9a7fe-1ba6-4394-9034-7c020fe4e5d8"
      },
      "outputs": [
        {
          "output_type": "execute_result",
          "data": {
            "text/plain": [
              "                                                URLs Class\n",
              "0                    freebase.com/view/en/bob_sirois  good\n",
              "1                     en.wikipedia.org/wiki/Joie_Lee  good\n",
              "2           pipl.com/directory/people/Rejean/Beaudin  good\n",
              "3  flickr.com/photos/teneyck/sets/72157610336209297/  good\n",
              "4  ussoccer.com/News/Federation-Services/2009/06/...  good"
            ],
            "text/html": [
              "\n",
              "  <div id=\"df-a6aa2279-e397-4fb9-b50e-3301c88416d0\">\n",
              "    <div class=\"colab-df-container\">\n",
              "      <div>\n",
              "<style scoped>\n",
              "    .dataframe tbody tr th:only-of-type {\n",
              "        vertical-align: middle;\n",
              "    }\n",
              "\n",
              "    .dataframe tbody tr th {\n",
              "        vertical-align: top;\n",
              "    }\n",
              "\n",
              "    .dataframe thead th {\n",
              "        text-align: right;\n",
              "    }\n",
              "</style>\n",
              "<table border=\"1\" class=\"dataframe\">\n",
              "  <thead>\n",
              "    <tr style=\"text-align: right;\">\n",
              "      <th></th>\n",
              "      <th>URLs</th>\n",
              "      <th>Class</th>\n",
              "    </tr>\n",
              "  </thead>\n",
              "  <tbody>\n",
              "    <tr>\n",
              "      <th>0</th>\n",
              "      <td>freebase.com/view/en/bob_sirois</td>\n",
              "      <td>good</td>\n",
              "    </tr>\n",
              "    <tr>\n",
              "      <th>1</th>\n",
              "      <td>en.wikipedia.org/wiki/Joie_Lee</td>\n",
              "      <td>good</td>\n",
              "    </tr>\n",
              "    <tr>\n",
              "      <th>2</th>\n",
              "      <td>pipl.com/directory/people/Rejean/Beaudin</td>\n",
              "      <td>good</td>\n",
              "    </tr>\n",
              "    <tr>\n",
              "      <th>3</th>\n",
              "      <td>flickr.com/photos/teneyck/sets/72157610336209297/</td>\n",
              "      <td>good</td>\n",
              "    </tr>\n",
              "    <tr>\n",
              "      <th>4</th>\n",
              "      <td>ussoccer.com/News/Federation-Services/2009/06/...</td>\n",
              "      <td>good</td>\n",
              "    </tr>\n",
              "  </tbody>\n",
              "</table>\n",
              "</div>\n",
              "      <button class=\"colab-df-convert\" onclick=\"convertToInteractive('df-a6aa2279-e397-4fb9-b50e-3301c88416d0')\"\n",
              "              title=\"Convert this dataframe to an interactive table.\"\n",
              "              style=\"display:none;\">\n",
              "        \n",
              "  <svg xmlns=\"http://www.w3.org/2000/svg\" height=\"24px\"viewBox=\"0 0 24 24\"\n",
              "       width=\"24px\">\n",
              "    <path d=\"M0 0h24v24H0V0z\" fill=\"none\"/>\n",
              "    <path d=\"M18.56 5.44l.94 2.06.94-2.06 2.06-.94-2.06-.94-.94-2.06-.94 2.06-2.06.94zm-11 1L8.5 8.5l.94-2.06 2.06-.94-2.06-.94L8.5 2.5l-.94 2.06-2.06.94zm10 10l.94 2.06.94-2.06 2.06-.94-2.06-.94-.94-2.06-.94 2.06-2.06.94z\"/><path d=\"M17.41 7.96l-1.37-1.37c-.4-.4-.92-.59-1.43-.59-.52 0-1.04.2-1.43.59L10.3 9.45l-7.72 7.72c-.78.78-.78 2.05 0 2.83L4 21.41c.39.39.9.59 1.41.59.51 0 1.02-.2 1.41-.59l7.78-7.78 2.81-2.81c.8-.78.8-2.07 0-2.86zM5.41 20L4 18.59l7.72-7.72 1.47 1.35L5.41 20z\"/>\n",
              "  </svg>\n",
              "      </button>\n",
              "      \n",
              "  <style>\n",
              "    .colab-df-container {\n",
              "      display:flex;\n",
              "      flex-wrap:wrap;\n",
              "      gap: 12px;\n",
              "    }\n",
              "\n",
              "    .colab-df-convert {\n",
              "      background-color: #E8F0FE;\n",
              "      border: none;\n",
              "      border-radius: 50%;\n",
              "      cursor: pointer;\n",
              "      display: none;\n",
              "      fill: #1967D2;\n",
              "      height: 32px;\n",
              "      padding: 0 0 0 0;\n",
              "      width: 32px;\n",
              "    }\n",
              "\n",
              "    .colab-df-convert:hover {\n",
              "      background-color: #E2EBFA;\n",
              "      box-shadow: 0px 1px 2px rgba(60, 64, 67, 0.3), 0px 1px 3px 1px rgba(60, 64, 67, 0.15);\n",
              "      fill: #174EA6;\n",
              "    }\n",
              "\n",
              "    [theme=dark] .colab-df-convert {\n",
              "      background-color: #3B4455;\n",
              "      fill: #D2E3FC;\n",
              "    }\n",
              "\n",
              "    [theme=dark] .colab-df-convert:hover {\n",
              "      background-color: #434B5C;\n",
              "      box-shadow: 0px 1px 3px 1px rgba(0, 0, 0, 0.15);\n",
              "      filter: drop-shadow(0px 1px 2px rgba(0, 0, 0, 0.3));\n",
              "      fill: #FFFFFF;\n",
              "    }\n",
              "  </style>\n",
              "\n",
              "      <script>\n",
              "        const buttonEl =\n",
              "          document.querySelector('#df-a6aa2279-e397-4fb9-b50e-3301c88416d0 button.colab-df-convert');\n",
              "        buttonEl.style.display =\n",
              "          google.colab.kernel.accessAllowed ? 'block' : 'none';\n",
              "\n",
              "        async function convertToInteractive(key) {\n",
              "          const element = document.querySelector('#df-a6aa2279-e397-4fb9-b50e-3301c88416d0');\n",
              "          const dataTable =\n",
              "            await google.colab.kernel.invokeFunction('convertToInteractive',\n",
              "                                                     [key], {});\n",
              "          if (!dataTable) return;\n",
              "\n",
              "          const docLinkHtml = 'Like what you see? Visit the ' +\n",
              "            '<a target=\"_blank\" href=https://colab.research.google.com/notebooks/data_table.ipynb>data table notebook</a>'\n",
              "            + ' to learn more about interactive tables.';\n",
              "          element.innerHTML = '';\n",
              "          dataTable['output_type'] = 'display_data';\n",
              "          await google.colab.output.renderOutput(dataTable, element);\n",
              "          const docLink = document.createElement('div');\n",
              "          docLink.innerHTML = docLinkHtml;\n",
              "          element.appendChild(docLink);\n",
              "        }\n",
              "      </script>\n",
              "    </div>\n",
              "  </div>\n",
              "  "
            ]
          },
          "metadata": {},
          "execution_count": 11
        }
      ],
      "source": [
        "#load the data\n",
        "df=pd.read_csv('/content/drive/MyDrive/finalP/malicious_dataset.csv')\n",
        "df.head()"
      ]
    },
    {
      "cell_type": "code",
      "source": [
        "from google.colab import drive\n",
        "drive.mount('/content/drive')"
      ],
      "metadata": {
        "colab": {
          "base_uri": "https://localhost:8080/"
        },
        "id": "TsQhH2lnjb9H",
        "outputId": "88cd44bd-440d-4c46-f132-b3c047979a90"
      },
      "execution_count": null,
      "outputs": [
        {
          "output_type": "stream",
          "name": "stdout",
          "text": [
            "Drive already mounted at /content/drive; to attempt to forcibly remount, call drive.mount(\"/content/drive\", force_remount=True).\n"
          ]
        }
      ]
    },
    {
      "cell_type": "code",
      "execution_count": null,
      "metadata": {
        "id": "uaJte8mjgN2i",
        "colab": {
          "base_uri": "https://localhost:8080/",
          "height": 175
        },
        "outputId": "a6e0d48f-32e2-4791-afd4-83c3400863f1"
      },
      "outputs": [
        {
          "output_type": "execute_result",
          "data": {
            "text/plain": [
              "                                                 URLs   Class\n",
              "count                                          420464  420464\n",
              "unique                                         411246       2\n",
              "top     d11m2p9mpffp32.cloudfront.net/main/web_zt.exe    good\n",
              "freq                                               27  344821"
            ],
            "text/html": [
              "\n",
              "  <div id=\"df-164b733c-c18e-4287-b124-a917b07107f8\">\n",
              "    <div class=\"colab-df-container\">\n",
              "      <div>\n",
              "<style scoped>\n",
              "    .dataframe tbody tr th:only-of-type {\n",
              "        vertical-align: middle;\n",
              "    }\n",
              "\n",
              "    .dataframe tbody tr th {\n",
              "        vertical-align: top;\n",
              "    }\n",
              "\n",
              "    .dataframe thead th {\n",
              "        text-align: right;\n",
              "    }\n",
              "</style>\n",
              "<table border=\"1\" class=\"dataframe\">\n",
              "  <thead>\n",
              "    <tr style=\"text-align: right;\">\n",
              "      <th></th>\n",
              "      <th>URLs</th>\n",
              "      <th>Class</th>\n",
              "    </tr>\n",
              "  </thead>\n",
              "  <tbody>\n",
              "    <tr>\n",
              "      <th>count</th>\n",
              "      <td>420464</td>\n",
              "      <td>420464</td>\n",
              "    </tr>\n",
              "    <tr>\n",
              "      <th>unique</th>\n",
              "      <td>411246</td>\n",
              "      <td>2</td>\n",
              "    </tr>\n",
              "    <tr>\n",
              "      <th>top</th>\n",
              "      <td>d11m2p9mpffp32.cloudfront.net/main/web_zt.exe</td>\n",
              "      <td>good</td>\n",
              "    </tr>\n",
              "    <tr>\n",
              "      <th>freq</th>\n",
              "      <td>27</td>\n",
              "      <td>344821</td>\n",
              "    </tr>\n",
              "  </tbody>\n",
              "</table>\n",
              "</div>\n",
              "      <button class=\"colab-df-convert\" onclick=\"convertToInteractive('df-164b733c-c18e-4287-b124-a917b07107f8')\"\n",
              "              title=\"Convert this dataframe to an interactive table.\"\n",
              "              style=\"display:none;\">\n",
              "        \n",
              "  <svg xmlns=\"http://www.w3.org/2000/svg\" height=\"24px\"viewBox=\"0 0 24 24\"\n",
              "       width=\"24px\">\n",
              "    <path d=\"M0 0h24v24H0V0z\" fill=\"none\"/>\n",
              "    <path d=\"M18.56 5.44l.94 2.06.94-2.06 2.06-.94-2.06-.94-.94-2.06-.94 2.06-2.06.94zm-11 1L8.5 8.5l.94-2.06 2.06-.94-2.06-.94L8.5 2.5l-.94 2.06-2.06.94zm10 10l.94 2.06.94-2.06 2.06-.94-2.06-.94-.94-2.06-.94 2.06-2.06.94z\"/><path d=\"M17.41 7.96l-1.37-1.37c-.4-.4-.92-.59-1.43-.59-.52 0-1.04.2-1.43.59L10.3 9.45l-7.72 7.72c-.78.78-.78 2.05 0 2.83L4 21.41c.39.39.9.59 1.41.59.51 0 1.02-.2 1.41-.59l7.78-7.78 2.81-2.81c.8-.78.8-2.07 0-2.86zM5.41 20L4 18.59l7.72-7.72 1.47 1.35L5.41 20z\"/>\n",
              "  </svg>\n",
              "      </button>\n",
              "      \n",
              "  <style>\n",
              "    .colab-df-container {\n",
              "      display:flex;\n",
              "      flex-wrap:wrap;\n",
              "      gap: 12px;\n",
              "    }\n",
              "\n",
              "    .colab-df-convert {\n",
              "      background-color: #E8F0FE;\n",
              "      border: none;\n",
              "      border-radius: 50%;\n",
              "      cursor: pointer;\n",
              "      display: none;\n",
              "      fill: #1967D2;\n",
              "      height: 32px;\n",
              "      padding: 0 0 0 0;\n",
              "      width: 32px;\n",
              "    }\n",
              "\n",
              "    .colab-df-convert:hover {\n",
              "      background-color: #E2EBFA;\n",
              "      box-shadow: 0px 1px 2px rgba(60, 64, 67, 0.3), 0px 1px 3px 1px rgba(60, 64, 67, 0.15);\n",
              "      fill: #174EA6;\n",
              "    }\n",
              "\n",
              "    [theme=dark] .colab-df-convert {\n",
              "      background-color: #3B4455;\n",
              "      fill: #D2E3FC;\n",
              "    }\n",
              "\n",
              "    [theme=dark] .colab-df-convert:hover {\n",
              "      background-color: #434B5C;\n",
              "      box-shadow: 0px 1px 3px 1px rgba(0, 0, 0, 0.15);\n",
              "      filter: drop-shadow(0px 1px 2px rgba(0, 0, 0, 0.3));\n",
              "      fill: #FFFFFF;\n",
              "    }\n",
              "  </style>\n",
              "\n",
              "      <script>\n",
              "        const buttonEl =\n",
              "          document.querySelector('#df-164b733c-c18e-4287-b124-a917b07107f8 button.colab-df-convert');\n",
              "        buttonEl.style.display =\n",
              "          google.colab.kernel.accessAllowed ? 'block' : 'none';\n",
              "\n",
              "        async function convertToInteractive(key) {\n",
              "          const element = document.querySelector('#df-164b733c-c18e-4287-b124-a917b07107f8');\n",
              "          const dataTable =\n",
              "            await google.colab.kernel.invokeFunction('convertToInteractive',\n",
              "                                                     [key], {});\n",
              "          if (!dataTable) return;\n",
              "\n",
              "          const docLinkHtml = 'Like what you see? Visit the ' +\n",
              "            '<a target=\"_blank\" href=https://colab.research.google.com/notebooks/data_table.ipynb>data table notebook</a>'\n",
              "            + ' to learn more about interactive tables.';\n",
              "          element.innerHTML = '';\n",
              "          dataTable['output_type'] = 'display_data';\n",
              "          await google.colab.output.renderOutput(dataTable, element);\n",
              "          const docLink = document.createElement('div');\n",
              "          docLink.innerHTML = docLinkHtml;\n",
              "          element.appendChild(docLink);\n",
              "        }\n",
              "      </script>\n",
              "    </div>\n",
              "  </div>\n",
              "  "
            ]
          },
          "metadata": {},
          "execution_count": 13
        }
      ],
      "source": [
        "# descriptive statistics summary of the dataset\n",
        "df.describe()"
      ]
    },
    {
      "cell_type": "code",
      "execution_count": null,
      "metadata": {
        "id": "UVv-C5m7gN2k",
        "colab": {
          "base_uri": "https://localhost:8080/",
          "height": 424
        },
        "outputId": "3e30dd90-8193-4248-a3ac-0f2d4bb85046"
      },
      "outputs": [
        {
          "output_type": "execute_result",
          "data": {
            "text/plain": [
              "         URLs  Class\n",
              "0       False  False\n",
              "1       False  False\n",
              "2       False  False\n",
              "3       False  False\n",
              "4       False  False\n",
              "...       ...    ...\n",
              "420459  False  False\n",
              "420460  False  False\n",
              "420461  False  False\n",
              "420462  False  False\n",
              "420463  False  False\n",
              "\n",
              "[420464 rows x 2 columns]"
            ],
            "text/html": [
              "\n",
              "  <div id=\"df-9a1e8d9b-c234-4308-83f5-bb87af7925de\">\n",
              "    <div class=\"colab-df-container\">\n",
              "      <div>\n",
              "<style scoped>\n",
              "    .dataframe tbody tr th:only-of-type {\n",
              "        vertical-align: middle;\n",
              "    }\n",
              "\n",
              "    .dataframe tbody tr th {\n",
              "        vertical-align: top;\n",
              "    }\n",
              "\n",
              "    .dataframe thead th {\n",
              "        text-align: right;\n",
              "    }\n",
              "</style>\n",
              "<table border=\"1\" class=\"dataframe\">\n",
              "  <thead>\n",
              "    <tr style=\"text-align: right;\">\n",
              "      <th></th>\n",
              "      <th>URLs</th>\n",
              "      <th>Class</th>\n",
              "    </tr>\n",
              "  </thead>\n",
              "  <tbody>\n",
              "    <tr>\n",
              "      <th>0</th>\n",
              "      <td>False</td>\n",
              "      <td>False</td>\n",
              "    </tr>\n",
              "    <tr>\n",
              "      <th>1</th>\n",
              "      <td>False</td>\n",
              "      <td>False</td>\n",
              "    </tr>\n",
              "    <tr>\n",
              "      <th>2</th>\n",
              "      <td>False</td>\n",
              "      <td>False</td>\n",
              "    </tr>\n",
              "    <tr>\n",
              "      <th>3</th>\n",
              "      <td>False</td>\n",
              "      <td>False</td>\n",
              "    </tr>\n",
              "    <tr>\n",
              "      <th>4</th>\n",
              "      <td>False</td>\n",
              "      <td>False</td>\n",
              "    </tr>\n",
              "    <tr>\n",
              "      <th>...</th>\n",
              "      <td>...</td>\n",
              "      <td>...</td>\n",
              "    </tr>\n",
              "    <tr>\n",
              "      <th>420459</th>\n",
              "      <td>False</td>\n",
              "      <td>False</td>\n",
              "    </tr>\n",
              "    <tr>\n",
              "      <th>420460</th>\n",
              "      <td>False</td>\n",
              "      <td>False</td>\n",
              "    </tr>\n",
              "    <tr>\n",
              "      <th>420461</th>\n",
              "      <td>False</td>\n",
              "      <td>False</td>\n",
              "    </tr>\n",
              "    <tr>\n",
              "      <th>420462</th>\n",
              "      <td>False</td>\n",
              "      <td>False</td>\n",
              "    </tr>\n",
              "    <tr>\n",
              "      <th>420463</th>\n",
              "      <td>False</td>\n",
              "      <td>False</td>\n",
              "    </tr>\n",
              "  </tbody>\n",
              "</table>\n",
              "<p>420464 rows × 2 columns</p>\n",
              "</div>\n",
              "      <button class=\"colab-df-convert\" onclick=\"convertToInteractive('df-9a1e8d9b-c234-4308-83f5-bb87af7925de')\"\n",
              "              title=\"Convert this dataframe to an interactive table.\"\n",
              "              style=\"display:none;\">\n",
              "        \n",
              "  <svg xmlns=\"http://www.w3.org/2000/svg\" height=\"24px\"viewBox=\"0 0 24 24\"\n",
              "       width=\"24px\">\n",
              "    <path d=\"M0 0h24v24H0V0z\" fill=\"none\"/>\n",
              "    <path d=\"M18.56 5.44l.94 2.06.94-2.06 2.06-.94-2.06-.94-.94-2.06-.94 2.06-2.06.94zm-11 1L8.5 8.5l.94-2.06 2.06-.94-2.06-.94L8.5 2.5l-.94 2.06-2.06.94zm10 10l.94 2.06.94-2.06 2.06-.94-2.06-.94-.94-2.06-.94 2.06-2.06.94z\"/><path d=\"M17.41 7.96l-1.37-1.37c-.4-.4-.92-.59-1.43-.59-.52 0-1.04.2-1.43.59L10.3 9.45l-7.72 7.72c-.78.78-.78 2.05 0 2.83L4 21.41c.39.39.9.59 1.41.59.51 0 1.02-.2 1.41-.59l7.78-7.78 2.81-2.81c.8-.78.8-2.07 0-2.86zM5.41 20L4 18.59l7.72-7.72 1.47 1.35L5.41 20z\"/>\n",
              "  </svg>\n",
              "      </button>\n",
              "      \n",
              "  <style>\n",
              "    .colab-df-container {\n",
              "      display:flex;\n",
              "      flex-wrap:wrap;\n",
              "      gap: 12px;\n",
              "    }\n",
              "\n",
              "    .colab-df-convert {\n",
              "      background-color: #E8F0FE;\n",
              "      border: none;\n",
              "      border-radius: 50%;\n",
              "      cursor: pointer;\n",
              "      display: none;\n",
              "      fill: #1967D2;\n",
              "      height: 32px;\n",
              "      padding: 0 0 0 0;\n",
              "      width: 32px;\n",
              "    }\n",
              "\n",
              "    .colab-df-convert:hover {\n",
              "      background-color: #E2EBFA;\n",
              "      box-shadow: 0px 1px 2px rgba(60, 64, 67, 0.3), 0px 1px 3px 1px rgba(60, 64, 67, 0.15);\n",
              "      fill: #174EA6;\n",
              "    }\n",
              "\n",
              "    [theme=dark] .colab-df-convert {\n",
              "      background-color: #3B4455;\n",
              "      fill: #D2E3FC;\n",
              "    }\n",
              "\n",
              "    [theme=dark] .colab-df-convert:hover {\n",
              "      background-color: #434B5C;\n",
              "      box-shadow: 0px 1px 3px 1px rgba(0, 0, 0, 0.15);\n",
              "      filter: drop-shadow(0px 1px 2px rgba(0, 0, 0, 0.3));\n",
              "      fill: #FFFFFF;\n",
              "    }\n",
              "  </style>\n",
              "\n",
              "      <script>\n",
              "        const buttonEl =\n",
              "          document.querySelector('#df-9a1e8d9b-c234-4308-83f5-bb87af7925de button.colab-df-convert');\n",
              "        buttonEl.style.display =\n",
              "          google.colab.kernel.accessAllowed ? 'block' : 'none';\n",
              "\n",
              "        async function convertToInteractive(key) {\n",
              "          const element = document.querySelector('#df-9a1e8d9b-c234-4308-83f5-bb87af7925de');\n",
              "          const dataTable =\n",
              "            await google.colab.kernel.invokeFunction('convertToInteractive',\n",
              "                                                     [key], {});\n",
              "          if (!dataTable) return;\n",
              "\n",
              "          const docLinkHtml = 'Like what you see? Visit the ' +\n",
              "            '<a target=\"_blank\" href=https://colab.research.google.com/notebooks/data_table.ipynb>data table notebook</a>'\n",
              "            + ' to learn more about interactive tables.';\n",
              "          element.innerHTML = '';\n",
              "          dataTable['output_type'] = 'display_data';\n",
              "          await google.colab.output.renderOutput(dataTable, element);\n",
              "          const docLink = document.createElement('div');\n",
              "          docLink.innerHTML = docLinkHtml;\n",
              "          element.appendChild(docLink);\n",
              "        }\n",
              "      </script>\n",
              "    </div>\n",
              "  </div>\n",
              "  "
            ]
          },
          "metadata": {},
          "execution_count": 14
        }
      ],
      "source": [
        "df.isnull()  #no null values"
      ]
    },
    {
      "cell_type": "code",
      "execution_count": null,
      "metadata": {
        "id": "OBVzU41wgN2l",
        "colab": {
          "base_uri": "https://localhost:8080/"
        },
        "outputId": "23f2d136-eb9b-43d4-818b-13de4e1147f9"
      },
      "outputs": [
        {
          "output_type": "execute_result",
          "data": {
            "text/plain": [
              "URLs     0\n",
              "Class    0\n",
              "dtype: int64"
            ]
          },
          "metadata": {},
          "execution_count": 15
        }
      ],
      "source": [
        "df.isnull().sum()"
      ]
    },
    {
      "cell_type": "code",
      "execution_count": null,
      "metadata": {
        "id": "nf40q7sPffgd",
        "colab": {
          "base_uri": "https://localhost:8080/"
        },
        "outputId": "795da0a7-cfd8-453a-a208-a7391fe87f83"
      },
      "outputs": [
        {
          "output_type": "execute_result",
          "data": {
            "text/plain": [
              "(420464, 2)"
            ]
          },
          "metadata": {},
          "execution_count": 16
        }
      ],
      "source": [
        "df.shape"
      ]
    },
    {
      "cell_type": "code",
      "execution_count": null,
      "metadata": {
        "id": "vZ7CP2SdgN2n",
        "colab": {
          "base_uri": "https://localhost:8080/"
        },
        "outputId": "3ac57fa9-deb0-4931-ac46-501ea958feec"
      },
      "outputs": [
        {
          "output_type": "execute_result",
          "data": {
            "text/plain": [
              "Index(['URLs', 'Class'], dtype='object')"
            ]
          },
          "metadata": {},
          "execution_count": 17
        }
      ],
      "source": [
        "df.columns"
      ]
    },
    {
      "cell_type": "code",
      "execution_count": null,
      "metadata": {
        "id": "OnngdVZLgN2o",
        "colab": {
          "base_uri": "https://localhost:8080/"
        },
        "outputId": "9a1e9782-ac29-4e5a-a664-af13b0414d50"
      },
      "outputs": [
        {
          "output_type": "execute_result",
          "data": {
            "text/plain": [
              "URLs     411246\n",
              "Class         2\n",
              "dtype: int64"
            ]
          },
          "metadata": {},
          "execution_count": 18
        }
      ],
      "source": [
        "df.nunique() #counts number of unique or distinct elements"
      ]
    },
    {
      "cell_type": "code",
      "execution_count": null,
      "metadata": {
        "id": "N95anaOCgN2p",
        "colab": {
          "base_uri": "https://localhost:8080/",
          "height": 424
        },
        "outputId": "ef77bad6-9ac0-49fe-9cf4-23a571a2fcb6"
      },
      "outputs": [
        {
          "output_type": "execute_result",
          "data": {
            "text/plain": [
              "                                                     URLs Class\n",
              "69059   artsopolis.com/event/detail/52093/The_Shape_of...  good\n",
              "178914  tourisme-montreal.org/Discover-montreal/Neighb...  good\n",
              "200882          furnitureantiques.info/sofa-couch-settee/  good\n",
              "32929                             flagapesor.nikblog.com/  good\n",
              "12986                              mylife.com/c-559660208  good\n",
              "...                                                   ...   ...\n",
              "382964  investing.businessweek.com/research/stocks/pri...  good\n",
              "324886             qosmvyuuwoklly.pl/upload/_dispatch.php   bad\n",
              "353797                      ca.linkedin.com/in/jctremblay  good\n",
              "200697                            dreallen.com/?page_id=4  good\n",
              "42241                                     sikhnation.net/  good\n",
              "\n",
              "[336371 rows x 2 columns]"
            ],
            "text/html": [
              "\n",
              "  <div id=\"df-7b988e1f-3b62-4ede-aa3d-8f0a4ba8d2d8\">\n",
              "    <div class=\"colab-df-container\">\n",
              "      <div>\n",
              "<style scoped>\n",
              "    .dataframe tbody tr th:only-of-type {\n",
              "        vertical-align: middle;\n",
              "    }\n",
              "\n",
              "    .dataframe tbody tr th {\n",
              "        vertical-align: top;\n",
              "    }\n",
              "\n",
              "    .dataframe thead th {\n",
              "        text-align: right;\n",
              "    }\n",
              "</style>\n",
              "<table border=\"1\" class=\"dataframe\">\n",
              "  <thead>\n",
              "    <tr style=\"text-align: right;\">\n",
              "      <th></th>\n",
              "      <th>URLs</th>\n",
              "      <th>Class</th>\n",
              "    </tr>\n",
              "  </thead>\n",
              "  <tbody>\n",
              "    <tr>\n",
              "      <th>69059</th>\n",
              "      <td>artsopolis.com/event/detail/52093/The_Shape_of...</td>\n",
              "      <td>good</td>\n",
              "    </tr>\n",
              "    <tr>\n",
              "      <th>178914</th>\n",
              "      <td>tourisme-montreal.org/Discover-montreal/Neighb...</td>\n",
              "      <td>good</td>\n",
              "    </tr>\n",
              "    <tr>\n",
              "      <th>200882</th>\n",
              "      <td>furnitureantiques.info/sofa-couch-settee/</td>\n",
              "      <td>good</td>\n",
              "    </tr>\n",
              "    <tr>\n",
              "      <th>32929</th>\n",
              "      <td>flagapesor.nikblog.com/</td>\n",
              "      <td>good</td>\n",
              "    </tr>\n",
              "    <tr>\n",
              "      <th>12986</th>\n",
              "      <td>mylife.com/c-559660208</td>\n",
              "      <td>good</td>\n",
              "    </tr>\n",
              "    <tr>\n",
              "      <th>...</th>\n",
              "      <td>...</td>\n",
              "      <td>...</td>\n",
              "    </tr>\n",
              "    <tr>\n",
              "      <th>382964</th>\n",
              "      <td>investing.businessweek.com/research/stocks/pri...</td>\n",
              "      <td>good</td>\n",
              "    </tr>\n",
              "    <tr>\n",
              "      <th>324886</th>\n",
              "      <td>qosmvyuuwoklly.pl/upload/_dispatch.php</td>\n",
              "      <td>bad</td>\n",
              "    </tr>\n",
              "    <tr>\n",
              "      <th>353797</th>\n",
              "      <td>ca.linkedin.com/in/jctremblay</td>\n",
              "      <td>good</td>\n",
              "    </tr>\n",
              "    <tr>\n",
              "      <th>200697</th>\n",
              "      <td>dreallen.com/?page_id=4</td>\n",
              "      <td>good</td>\n",
              "    </tr>\n",
              "    <tr>\n",
              "      <th>42241</th>\n",
              "      <td>sikhnation.net/</td>\n",
              "      <td>good</td>\n",
              "    </tr>\n",
              "  </tbody>\n",
              "</table>\n",
              "<p>336371 rows × 2 columns</p>\n",
              "</div>\n",
              "      <button class=\"colab-df-convert\" onclick=\"convertToInteractive('df-7b988e1f-3b62-4ede-aa3d-8f0a4ba8d2d8')\"\n",
              "              title=\"Convert this dataframe to an interactive table.\"\n",
              "              style=\"display:none;\">\n",
              "        \n",
              "  <svg xmlns=\"http://www.w3.org/2000/svg\" height=\"24px\"viewBox=\"0 0 24 24\"\n",
              "       width=\"24px\">\n",
              "    <path d=\"M0 0h24v24H0V0z\" fill=\"none\"/>\n",
              "    <path d=\"M18.56 5.44l.94 2.06.94-2.06 2.06-.94-2.06-.94-.94-2.06-.94 2.06-2.06.94zm-11 1L8.5 8.5l.94-2.06 2.06-.94-2.06-.94L8.5 2.5l-.94 2.06-2.06.94zm10 10l.94 2.06.94-2.06 2.06-.94-2.06-.94-.94-2.06-.94 2.06-2.06.94z\"/><path d=\"M17.41 7.96l-1.37-1.37c-.4-.4-.92-.59-1.43-.59-.52 0-1.04.2-1.43.59L10.3 9.45l-7.72 7.72c-.78.78-.78 2.05 0 2.83L4 21.41c.39.39.9.59 1.41.59.51 0 1.02-.2 1.41-.59l7.78-7.78 2.81-2.81c.8-.78.8-2.07 0-2.86zM5.41 20L4 18.59l7.72-7.72 1.47 1.35L5.41 20z\"/>\n",
              "  </svg>\n",
              "      </button>\n",
              "      \n",
              "  <style>\n",
              "    .colab-df-container {\n",
              "      display:flex;\n",
              "      flex-wrap:wrap;\n",
              "      gap: 12px;\n",
              "    }\n",
              "\n",
              "    .colab-df-convert {\n",
              "      background-color: #E8F0FE;\n",
              "      border: none;\n",
              "      border-radius: 50%;\n",
              "      cursor: pointer;\n",
              "      display: none;\n",
              "      fill: #1967D2;\n",
              "      height: 32px;\n",
              "      padding: 0 0 0 0;\n",
              "      width: 32px;\n",
              "    }\n",
              "\n",
              "    .colab-df-convert:hover {\n",
              "      background-color: #E2EBFA;\n",
              "      box-shadow: 0px 1px 2px rgba(60, 64, 67, 0.3), 0px 1px 3px 1px rgba(60, 64, 67, 0.15);\n",
              "      fill: #174EA6;\n",
              "    }\n",
              "\n",
              "    [theme=dark] .colab-df-convert {\n",
              "      background-color: #3B4455;\n",
              "      fill: #D2E3FC;\n",
              "    }\n",
              "\n",
              "    [theme=dark] .colab-df-convert:hover {\n",
              "      background-color: #434B5C;\n",
              "      box-shadow: 0px 1px 3px 1px rgba(0, 0, 0, 0.15);\n",
              "      filter: drop-shadow(0px 1px 2px rgba(0, 0, 0, 0.3));\n",
              "      fill: #FFFFFF;\n",
              "    }\n",
              "  </style>\n",
              "\n",
              "      <script>\n",
              "        const buttonEl =\n",
              "          document.querySelector('#df-7b988e1f-3b62-4ede-aa3d-8f0a4ba8d2d8 button.colab-df-convert');\n",
              "        buttonEl.style.display =\n",
              "          google.colab.kernel.accessAllowed ? 'block' : 'none';\n",
              "\n",
              "        async function convertToInteractive(key) {\n",
              "          const element = document.querySelector('#df-7b988e1f-3b62-4ede-aa3d-8f0a4ba8d2d8');\n",
              "          const dataTable =\n",
              "            await google.colab.kernel.invokeFunction('convertToInteractive',\n",
              "                                                     [key], {});\n",
              "          if (!dataTable) return;\n",
              "\n",
              "          const docLinkHtml = 'Like what you see? Visit the ' +\n",
              "            '<a target=\"_blank\" href=https://colab.research.google.com/notebooks/data_table.ipynb>data table notebook</a>'\n",
              "            + ' to learn more about interactive tables.';\n",
              "          element.innerHTML = '';\n",
              "          dataTable['output_type'] = 'display_data';\n",
              "          await google.colab.output.renderOutput(dataTable, element);\n",
              "          const docLink = document.createElement('div');\n",
              "          docLink.innerHTML = docLinkHtml;\n",
              "          element.appendChild(docLink);\n",
              "        }\n",
              "      </script>\n",
              "    </div>\n",
              "  </div>\n",
              "  "
            ]
          },
          "metadata": {},
          "execution_count": 19
        }
      ],
      "source": [
        "train_df,test_df=train_test_split(df,test_size=.2,random_state=28)\n",
        "train_df"
      ]
    },
    {
      "cell_type": "code",
      "execution_count": null,
      "metadata": {
        "id": "wstCRPmogN2r",
        "colab": {
          "base_uri": "https://localhost:8080/"
        },
        "outputId": "9490b95a-2f53-4495-852b-e5b925b36c24"
      },
      "outputs": [
        {
          "output_type": "execute_result",
          "data": {
            "text/plain": [
              "(336371,)"
            ]
          },
          "metadata": {},
          "execution_count": 20
        }
      ],
      "source": [
        "xtrain=train_df['URLs']\n",
        "xtest=test_df['URLs']\n",
        "xtrain.shape"
      ]
    },
    {
      "cell_type": "code",
      "execution_count": null,
      "metadata": {
        "id": "BsRbkhO2gN2t"
      },
      "outputs": [],
      "source": [
        "labels= train_df['Class']\n",
        "test_labels= test_df['Class']"
      ]
    },
    {
      "cell_type": "code",
      "execution_count": null,
      "metadata": {
        "id": "rEXpe0bKgN2u",
        "colab": {
          "base_uri": "https://localhost:8080/"
        },
        "outputId": "a998a81a-7cd8-4ea5-a2e9-e9d4e0fd54d0"
      },
      "outputs": [
        {
          "output_type": "stream",
          "name": "stdout",
          "text": [
            "training samples:  336371\n",
            "test samples:  84093\n"
          ]
        }
      ],
      "source": [
        "print('training samples: ',len(train_df))\n",
        "print('test samples: ',len(test_df))"
      ]
    },
    {
      "cell_type": "code",
      "execution_count": null,
      "metadata": {
        "id": "p7JMoEnagN2w",
        "colab": {
          "base_uri": "https://localhost:8080/",
          "height": 330
        },
        "outputId": "555b8c8f-2314-43df-c208-975e2e5efad9"
      },
      "outputs": [
        {
          "output_type": "execute_result",
          "data": {
            "text/plain": [
              "Text(0.5, 1.0, 'Class Count (Training)')"
            ]
          },
          "metadata": {},
          "execution_count": 23
        },
        {
          "output_type": "display_data",
          "data": {
            "text/plain": [
              "<Figure size 432x288 with 1 Axes>"
            ],
            "image/png": "[encoded data removed]"
          },
          "metadata": {
            "needs_background": "light"
          }
        }
      ],
      "source": [
        "# bar graph for the count of TRAINING DATA\n",
        "count_train_classes=pd.value_counts(labels)\n",
        "count_train_classes.plot(kind='bar',fontsize=16, colormap='Accent')\n",
        "plt.title('Class Count (Training)',fontsize=16)"
      ]
    },
    {
      "cell_type": "code",
      "execution_count": null,
      "metadata": {
        "id": "BkrVUATkgN2x",
        "colab": {
          "base_uri": "https://localhost:8080/",
          "height": 330
        },
        "outputId": "7092001d-f664-4085-e242-d8f5f0e6f1a7"
      },
      "outputs": [
        {
          "output_type": "execute_result",
          "data": {
            "text/plain": [
              "Text(0.5, 1.0, 'Class Count (Testing)')"
            ]
          },
          "metadata": {},
          "execution_count": 24
        },
        {
          "output_type": "display_data",
          "data": {
            "text/plain": [
              "<Figure size 432x288 with 1 Axes>"
            ],
            "image/png": "[encoded data removed]"
          },
          "metadata": {
            "needs_background": "light"
          }
        }
      ],
      "source": [
        "# bar graph for the count of TESTING DATA\n",
        "count_test_classes=pd.value_counts(test_labels)  \n",
        "# value_count returns number of good data, and bad data\n",
        "count_test_classes.plot(kind='bar',fontsize=16)\n",
        "plt.title('Class Count (Testing)',fontsize=16)"
      ]
    },
    {
      "cell_type": "markdown",
      "metadata": {
        "id": "KwEsN4nDgN20"
      },
      "source": [
        "Interpretation of graphs - The number of good and bad     urls is uniformly divided in testing and training data."
      ]
    },
    {
      "cell_type": "markdown",
      "metadata": {
        "id": "wvZ_3YZmgN20"
      },
      "source": [
        "## Create tokenization function"
      ]
    },
    {
      "cell_type": "code",
      "execution_count": null,
      "metadata": {
        "id": "Lq4GthHFgN21"
      },
      "outputs": [],
      "source": [
        "#TOKENIZATION FUNCTION CALLED TOKENIZER\n",
        "def tokenizer(url):\n",
        "    \n",
        "    tokens=url.split(\"/\")\n",
        "    global dot_split\n",
        "    for i in tokens:\n",
        "        if i.find(\".\")>=0: # why find(\".\") before splitting , not directly split as done for (\"/\")? \n",
        "                           # - because it would print the tokens without (\".\") twice, once as output of .split(\"/\"), \n",
        "                           #   other as o/p of .split(\".\")\n",
        "            dot_split=i.split(\".\")\n",
        "\n",
        "        if \"com\" in dot_split:\n",
        "            dot_split.remove(\"com\")  \n",
        "        if \"www\" in dot_split:\n",
        "            dot_split.remove(\"www\")\n",
        "\n",
        "        tokens+= dot_split\n",
        "\n",
        "        return tokens"
      ]
    },
    {
      "cell_type": "markdown",
      "metadata": {
        "id": "To6uvJfmgN21"
      },
      "source": [
        "## Vectorize Training Data\n"
      ]
    },
    {
      "cell_type": "code",
      "execution_count": null,
      "metadata": {
        "id": "ejWSh9N8gN22"
      },
      "outputs": [],
      "source": [
        "#ON TRAINING DATA---COUNT VECTORIZATION AND TERM FREQUENCY-INVERSE DOCUMENT FREQUENCY(TF-IDF) \n",
        "\n",
        "#Training Count Vectorization\n",
        "cVec=CountVectorizer(tokenizer=tokenizer) # passing custom tokenizer named as tokenizer\n",
        "                                          # if not used this, the default tokenizer would have removed all punctuations, \n",
        "                                          # commas ,all special functions and single characters etc\n",
        "count_X = cVec.fit_transform(xtrain)\n",
        "\n",
        "#Training TF-IDF Vectorization\n",
        "tVec=TfidfVectorizer(tokenizer=tokenizer)\n",
        "tfidf_X = tVec.fit_transform(xtrain)"
      ]
    },
    {
      "cell_type": "code",
      "execution_count": null,
      "metadata": {
        "id": "LiGpl5YAgN22",
        "colab": {
          "base_uri": "https://localhost:8080/"
        },
        "outputId": "1b176bfa-7446-4512-9622-c0450ac88dd0"
      },
      "outputs": [
        {
          "output_type": "stream",
          "name": "stdout",
          "text": [
            "<class 'scipy.sparse.csr.csr_matrix'>\n",
            "<class 'scipy.sparse.csr.csr_matrix'>\n"
          ]
        }
      ],
      "source": [
        "print(type(count_X))\n",
        "print(type(tfidf_X))"
      ]
    },
    {
      "cell_type": "code",
      "execution_count": null,
      "metadata": {
        "id": "rVuUWnbUgN23",
        "colab": {
          "base_uri": "https://localhost:8080/"
        },
        "outputId": "71f19d3e-fb1d-459b-af74-31d33e517842"
      },
      "outputs": [
        {
          "output_type": "stream",
          "name": "stdout",
          "text": [
            "(336371, 534846)\n",
            "(336371, 534846)\n"
          ]
        }
      ],
      "source": [
        "print(count_X.shape)\n",
        "print(tfidf_X.shape)"
      ]
    },
    {
      "cell_type": "markdown",
      "metadata": {
        "id": "vD8GWEexgN23"
      },
      "source": [
        "## Vectorize Testing Data"
      ]
    },
    {
      "cell_type": "code",
      "execution_count": null,
      "metadata": {
        "id": "MtRhsTtBgN24"
      },
      "outputs": [],
      "source": [
        "#ON TESTING DATA---COUNT VECTORIZATION AND TERM FREQUENCY-INVERSE DOCUMENT FREQUENCY(TF-IDF) \n",
        "\n",
        "#Testing Count Vectorization\n",
        "test_count_X = cVec.transform(test_df['URLs'])\n",
        "#Testing TF-IDF Vectorization\n",
        "test_tfidf_X = tVec.transform(test_df['URLs'])"
      ]
    },
    {
      "cell_type": "markdown",
      "metadata": {
        "id": "9BiY3kr4gN24"
      },
      "source": [
        "NOTES : \n",
        "while pre- processing the training and testing data, \n",
        "we apply fit_transform on training data - fit calculates mean & variance,\n",
        "                                          transform func transforms the features using calculated mean and variance.\n",
        "\n",
        "apply transform on testing data - to use the same mean and variance as it is calculated from our training data\n",
        "                                  to transform our test data\n",
        "\n",
        "While implementing the model, use just the fit() method on training data"
      ]
    },
    {
      "cell_type": "markdown",
      "metadata": {
        "id": "8FxGXWuxgN24"
      },
      "source": [
        "## EXAMPLE "
      ]
    },
    {
      "cell_type": "markdown",
      "metadata": {
        "id": "KJwvG0UigN25"
      },
      "source": [
        "### Ex1 : Creating a example url and tokenizing it"
      ]
    },
    {
      "cell_type": "code",
      "execution_count": null,
      "metadata": {
        "id": "_JxJGES-gN25",
        "scrolled": true,
        "colab": {
          "base_uri": "https://localhost:8080/"
        },
        "outputId": "e99ce7cb-8522-4907-e381-e23c66010fe9"
      },
      "outputs": [
        {
          "output_type": "stream",
          "name": "stdout",
          "text": [
            "www.pipl.study/study/study.com\n",
            "['www.pipl.study', 'study', 'study.com', 'pipl', 'study']\n"
          ]
        }
      ],
      "source": [
        "# example of how the url will be tokenized\n",
        "example_url='www.pipl.study/study/study.com'\n",
        "print(example_url)\n",
        "\n",
        "tokenized_url=tokenizer(example_url)  #tokenizes test_url- .com is also removed in this example\n",
        "print(tokenized_url) "
      ]
    },
    {
      "cell_type": "code",
      "execution_count": null,
      "metadata": {
        "id": "THmfXEEmgN25",
        "colab": {
          "base_uri": "https://localhost:8080/"
        },
        "outputId": "c1214606-8ab6-4658-a3af-d03ad91ca071"
      },
      "outputs": [
        {
          "output_type": "stream",
          "name": "stdout",
          "text": [
            "{'www.pipl.study': None, 'study': None, 'study.com': None, 'pipl': None}\n",
            "1-www.pipl.study\n",
            "2-study\n",
            "1-study.com\n",
            "1-pipl\n"
          ]
        }
      ],
      "source": [
        "# TOKEN COUNTS ON TEST URL- just applying manually on the example that we took\n",
        "\n",
        "#code to get the count of words in each url \n",
        "# or the words that repeat in \n",
        "dictx = dict.fromkeys(tokenized_url) # fromkeys takes two parameters key ,\n",
        "                                     # and its value, as here no value given ,\n",
        "                                     # only key:token given, hence by default it will take NONE as val\n",
        "print(dictx)\n",
        "for i in tokenized_url:\n",
        "    dictx[i]=tokenized_url.count(i)\n",
        "for i in dictx:\n",
        "    print(\"{}-{}\".format(dictx[i],i))"
      ]
    },
    {
      "cell_type": "code",
      "execution_count": null,
      "metadata": {
        "id": "JjRGzpw-gN26",
        "colab": {
          "base_uri": "https://localhost:8080/"
        },
        "outputId": "abf26acb-e413-4144-beec-d1adba2a9de5"
      },
      "outputs": [
        {
          "output_type": "stream",
          "name": "stdout",
          "text": [
            "COUNT\n",
            "  (0, 3)\t1\n",
            "  (0, 1)\t2\n",
            "  (0, 2)\t1\n",
            "  (0, 0)\t1\n",
            "TF-IDF: \n",
            "  (0, 0)\t0.3779644730092272\n",
            "  (0, 2)\t0.3779644730092272\n",
            "  (0, 1)\t0.7559289460184544\n",
            "  (0, 3)\t0.3779644730092272\n"
          ]
        }
      ],
      "source": [
        "# COUNT VECTORIZATION AND TF-IDF VECTORIZATION ON TEST URL- just applying manually on the example that we took\n",
        "\n",
        "#create CountVectorizer and fit_transform on test url\n",
        "#make sure to apply [] to make the url string a list while taking input from user\n",
        "#this is because function expects a list and url is a string\n",
        "print(\"COUNT\")\n",
        "#count vectorization on test-url\n",
        "exvec1=CountVectorizer(tokenizer=tokenizer)\n",
        "exx1=exvec1.fit_transform([example_url])\n",
        "print(exx1)\n",
        "\n",
        "print(\"TF-IDF: \")\n",
        "#tf-idf vectorization on test-url\n",
        "exvec2=TfidfVectorizer(tokenizer=tokenizer)\n",
        "exx2=exvec2.fit_transform([example_url])\n",
        "print(exx2)\n"
      ]
    },
    {
      "cell_type": "markdown",
      "metadata": {
        "id": "4gKWpJPagN26"
      },
      "source": [
        "### Ex2 - checking how TF-IDF and count Vectorizer increase the columns "
      ]
    },
    {
      "cell_type": "code",
      "execution_count": null,
      "metadata": {
        "id": "iJds5ZWGgN26",
        "colab": {
          "base_uri": "https://localhost:8080/"
        },
        "outputId": "522086cc-8e19-4953-fc67-094cb2689221"
      },
      "outputs": [
        {
          "output_type": "execute_result",
          "data": {
            "text/plain": [
              "69059     artsopolis.com/event/detail/52093/The_Shape_of...\n",
              "178914    tourisme-montreal.org/Discover-montreal/Neighb...\n",
              "200882            furnitureantiques.info/sofa-couch-settee/\n",
              "Name: URLs, dtype: object"
            ]
          },
          "metadata": {},
          "execution_count": 33
        }
      ],
      "source": [
        "xtrain=train_df['URLs'].head(3)\n",
        "xtrain"
      ]
    },
    {
      "cell_type": "code",
      "execution_count": null,
      "metadata": {
        "id": "UbMdCwl_gN27"
      },
      "outputs": [],
      "source": [
        "ex1=cVec.fit_transform(xtrain)"
      ]
    },
    {
      "cell_type": "code",
      "execution_count": null,
      "metadata": {
        "id": "RAOQgCc2gN28",
        "colab": {
          "base_uri": "https://localhost:8080/"
        },
        "outputId": "ea60f4fc-7a96-471f-f98d-679d2acb87f2"
      },
      "outputs": [
        {
          "output_type": "stream",
          "name": "stdout",
          "text": [
            "  (0, 3)\t1\n",
            "  (0, 6)\t1\n",
            "  (0, 4)\t1\n",
            "  (0, 1)\t1\n",
            "  (0, 13)\t1\n",
            "  (0, 2)\t1\n",
            "  (1, 15)\t1\n",
            "  (1, 5)\t1\n",
            "  (1, 10)\t1\n",
            "  (1, 14)\t1\n",
            "  (1, 11)\t1\n",
            "  (2, 8)\t1\n",
            "  (2, 12)\t1\n",
            "  (2, 0)\t1\n",
            "  (2, 7)\t1\n",
            "  (2, 9)\t1\n"
          ]
        }
      ],
      "source": [
        "print(ex1)\n",
        "# tokenizes 3 urls into 16 unique tokens. "
      ]
    },
    {
      "cell_type": "code",
      "execution_count": null,
      "metadata": {
        "id": "TqIgvalggN28",
        "colab": {
          "base_uri": "https://localhost:8080/"
        },
        "outputId": "90587c22-22d9-4798-a544-20b75bc4c07c"
      },
      "outputs": [
        {
          "output_type": "execute_result",
          "data": {
            "text/plain": [
              "(3, 16)"
            ]
          },
          "metadata": {},
          "execution_count": 36
        }
      ],
      "source": [
        "ex1.shape\n",
        "# 3 rows : for 3 URLS \n",
        "#16 columns : for 16 tokens "
      ]
    },
    {
      "cell_type": "code",
      "execution_count": null,
      "metadata": {
        "id": "2z8pYkT7gN28"
      },
      "outputs": [],
      "source": [
        "ex2=tVec.fit_transform(xtrain)"
      ]
    },
    {
      "cell_type": "code",
      "execution_count": null,
      "metadata": {
        "id": "0pk3GDpagN29",
        "colab": {
          "base_uri": "https://localhost:8080/"
        },
        "outputId": "7f3fddd1-e9b2-4927-b792-844e4f545020"
      },
      "outputs": [
        {
          "output_type": "stream",
          "name": "stdout",
          "text": [
            "  (0, 2)\t0.4082482904638631\n",
            "  (0, 13)\t0.4082482904638631\n",
            "  (0, 1)\t0.4082482904638631\n",
            "  (0, 4)\t0.4082482904638631\n",
            "  (0, 6)\t0.4082482904638631\n",
            "  (0, 3)\t0.4082482904638631\n",
            "  (1, 11)\t0.4472135954999579\n",
            "  (1, 14)\t0.4472135954999579\n",
            "  (1, 10)\t0.4472135954999579\n",
            "  (1, 5)\t0.4472135954999579\n",
            "  (1, 15)\t0.4472135954999579\n",
            "  (2, 9)\t0.4472135954999579\n",
            "  (2, 7)\t0.4472135954999579\n",
            "  (2, 0)\t0.4472135954999579\n",
            "  (2, 12)\t0.4472135954999579\n",
            "  (2, 8)\t0.4472135954999579\n"
          ]
        }
      ],
      "source": [
        "print(ex2)"
      ]
    },
    {
      "cell_type": "code",
      "execution_count": null,
      "metadata": {
        "id": "j_28xKNAgN29",
        "colab": {
          "base_uri": "https://localhost:8080/"
        },
        "outputId": "4cbe18c1-da2f-4c03-bd12-85c462a0fd72"
      },
      "outputs": [
        {
          "output_type": "execute_result",
          "data": {
            "text/plain": [
              "(3, 16)"
            ]
          },
          "metadata": {},
          "execution_count": 39
        }
      ],
      "source": [
        "ex2.shape\n",
        "# same number of rows and columns as count vector "
      ]
    },
    {
      "cell_type": "markdown",
      "metadata": {
        "id": "4Nwffuu6gN29"
      },
      "source": [
        "# IMPLEMENTING THE MODELS - "
      ]
    },
    {
      "cell_type": "code",
      "execution_count": null,
      "metadata": {
        "id": "NXwQ5TbyqgHs"
      },
      "outputs": [],
      "source": [
        "# importing models and metrics\n",
        "from sklearn.linear_model import LogisticRegression\n",
        "from sklearn.naive_bayes import MultinomialNB\n",
        "from sklearn.ensemble import RandomForestRegressor\n",
        "from sklearn.metrics import confusion_matrix, classification_report "
      ]
    },
    {
      "cell_type": "markdown",
      "metadata": {
        "id": "Y_Z19iksgN2-"
      },
      "source": [
        "### MULTINOMIAL NAIVE BAYES WITH COUNT VECTORIZER"
      ]
    },
    {
      "cell_type": "code",
      "execution_count": null,
      "metadata": {
        "id": "U3lnlpdxgN2-",
        "colab": {
          "base_uri": "https://localhost:8080/"
        },
        "outputId": "7edbcbe4-ab43-4973-c2b0-f9b0127b6ada"
      },
      "outputs": [
        {
          "output_type": "stream",
          "name": "stdout",
          "text": [
            "score is:  0.9759908672541115\n",
            "prediction is:  ['good' 'good' 'good' ... 'good' 'good' 'good']\n"
          ]
        }
      ],
      "source": [
        "#MULTINOMIAL NAIVE BAYES WITH COUNT VECTORIZER\n",
        "#train the model\n",
        "mnb_count= MultinomialNB()\n",
        "mnb_count.fit(count_X,labels) \n",
        "\n",
        "#test the mode (score,predictions, confusion matrix, classification report)\n",
        "score_mnb_count =mnb_count.score(test_count_X, test_labels)\n",
        "predictions_mnb_count=mnb_count.predict(test_count_X)\n",
        "print(\"score is: \",score_mnb_count)\n",
        "print(\"prediction is: \",predictions_mnb_count)"
      ]
    },
    {
      "cell_type": "code",
      "execution_count": null,
      "metadata": {
        "id": "SFgHwp9DgN2-",
        "colab": {
          "base_uri": "https://localhost:8080/"
        },
        "outputId": "cdc66d25-73a0-42ce-c3c4-2ec8f727df25"
      },
      "outputs": [
        {
          "output_type": "execute_result",
          "data": {
            "text/plain": [
              "array([[13332,  1674],\n",
              "       [  345, 68742]])"
            ]
          },
          "metadata": {},
          "execution_count": 42
        }
      ],
      "source": [
        "confusion_matrix(test_labels, predictions_mnb_count)"
      ]
    },
    {
      "cell_type": "code",
      "execution_count": null,
      "metadata": {
        "id": "dBpXyvaRgN2_",
        "colab": {
          "base_uri": "https://localhost:8080/"
        },
        "outputId": "21946726-896d-4dab-96a2-29f6c84b8e55"
      },
      "outputs": [
        {
          "output_type": "stream",
          "name": "stdout",
          "text": [
            "              precision    recall  f1-score   support\n",
            "\n",
            "         bad       0.97      0.89      0.93     15006\n",
            "        good       0.98      1.00      0.99     69087\n",
            "\n",
            "    accuracy                           0.98     84093\n",
            "   macro avg       0.98      0.94      0.96     84093\n",
            "weighted avg       0.98      0.98      0.98     84093\n",
            "\n"
          ]
        }
      ],
      "source": [
        "print(classification_report(test_labels,predictions_mnb_count))"
      ]
    },
    {
      "cell_type": "markdown",
      "metadata": {
        "id": "BiKONqlJgN2_"
      },
      "source": [
        "### MULTINOMIAL NAIVE BAYES WITH TF-IDF VECTORIZER"
      ]
    },
    {
      "cell_type": "code",
      "execution_count": null,
      "metadata": {
        "id": "XPJ0y7rDgN2_",
        "colab": {
          "base_uri": "https://localhost:8080/"
        },
        "outputId": "cd759880-da3b-44b5-8bf9-1ca4ca25dadc"
      },
      "outputs": [
        {
          "output_type": "stream",
          "name": "stdout",
          "text": [
            "score is:  0.9703780338434828\n",
            "prediction is:  ['good' 'good' 'good' ... 'good' 'good' 'good']\n"
          ]
        }
      ],
      "source": [
        "#MULTINOMIAL NAIVE BAYES WITH TF-IDF VECTORIZER\n",
        "#train the model\n",
        "mnb_tfidf= MultinomialNB()\n",
        "mnb_tfidf.fit(tfidf_X,labels) \n",
        "\n",
        "#test the mode (score,predictions, confusion matrix, classification report)\n",
        "score_mnb_tfidf=mnb_tfidf.score(test_tfidf_X, test_labels)\n",
        "predictions_mnb_tfidf=mnb_tfidf.predict(test_tfidf_X)\n",
        "print(\"score is: \",score_mnb_tfidf)\n",
        "print(\"prediction is: \",predictions_mnb_tfidf)"
      ]
    },
    {
      "cell_type": "code",
      "execution_count": null,
      "metadata": {
        "id": "1niBTZaDgN2_",
        "colab": {
          "base_uri": "https://localhost:8080/"
        },
        "outputId": "df1429e5-9b85-413a-d9bf-9c86acb7f9b2"
      },
      "outputs": [
        {
          "output_type": "execute_result",
          "data": {
            "text/plain": [
              "array([[12637,  2369],\n",
              "       [  122, 68965]])"
            ]
          },
          "metadata": {},
          "execution_count": 45
        }
      ],
      "source": [
        "confusion_matrix(test_labels, predictions_mnb_tfidf)"
      ]
    },
    {
      "cell_type": "code",
      "execution_count": null,
      "metadata": {
        "id": "vFT_1k5tgN3A",
        "colab": {
          "base_uri": "https://localhost:8080/"
        },
        "outputId": "5a61aa36-8e33-4bab-8db9-88f24a6cd42a"
      },
      "outputs": [
        {
          "output_type": "stream",
          "name": "stdout",
          "text": [
            "              precision    recall  f1-score   support\n",
            "\n",
            "         bad       0.99      0.84      0.91     15006\n",
            "        good       0.97      1.00      0.98     69087\n",
            "\n",
            "    accuracy                           0.97     84093\n",
            "   macro avg       0.98      0.92      0.95     84093\n",
            "weighted avg       0.97      0.97      0.97     84093\n",
            "\n"
          ]
        }
      ],
      "source": [
        "print(classification_report(test_labels,predictions_mnb_tfidf))"
      ]
    },
    {
      "cell_type": "markdown",
      "metadata": {
        "id": "rsxk_LFDgN3A"
      },
      "source": [
        "### LOGISTC REGRESSION WITH COUNT VECTORIZER"
      ]
    },
    {
      "cell_type": "code",
      "execution_count": null,
      "metadata": {
        "id": "MdyT1TdlgN3A",
        "colab": {
          "base_uri": "https://localhost:8080/"
        },
        "outputId": "b65f73d0-d50c-4a2a-9f35-23165bd47424"
      },
      "outputs": [
        {
          "metadata": {
            "tags": null
          },
          "name": "stderr",
          "output_type": "stream",
          "text": [
            "/usr/local/lib/python3.8/dist-packages/sklearn/linear_model/_logistic.py:814: ConvergenceWarning: lbfgs failed to converge (status=1):\n",
            "STOP: TOTAL NO. of ITERATIONS REACHED LIMIT.\n",
            "\n",
            "Increase the number of iterations (max_iter) or scale the data as shown in:\n",
            "    https://scikit-learn.org/stable/modules/preprocessing.html\n",
            "Please also refer to the documentation for alternative solver options:\n",
            "    https://scikit-learn.org/stable/modules/linear_model.html#logistic-regression\n",
            "  n_iter_i = _check_optimize_result(\n"
          ]
        },
        {
          "metadata": {
            "tags": null
          },
          "name": "stdout",
          "output_type": "stream",
          "text": [
            "score is:  0.967987823005482\n",
            "prediction is:  ['good' 'good' 'good' ... 'good' 'good' 'good']\n"
          ]
        },
        {
          "output_type": "stream",
          "name": "stderr",
          "text": [
            "/usr/local/lib/python3.8/dist-packages/sklearn/linear_model/_logistic.py:814: ConvergenceWarning: lbfgs failed to converge (status=1):\n",
            "STOP: TOTAL NO. of ITERATIONS REACHED LIMIT.\n",
            "\n",
            "Increase the number of iterations (max_iter) or scale the data as shown in:\n",
            "    https://scikit-learn.org/stable/modules/preprocessing.html\n",
            "Please also refer to the documentation for alternative solver options:\n",
            "    https://scikit-learn.org/stable/modules/linear_model.html#logistic-regression\n",
            "  n_iter_i = _check_optimize_result(\n"
          ]
        },
        {
          "output_type": "stream",
          "name": "stdout",
          "text": [
            "score is:  0.967987823005482\n",
            "prediction is:  ['good' 'good' 'good' ... 'good' 'good' 'good']\n"
          ]
        }
      ],
      "source": [
        "#LOGISTIC REGRESSION WITH COUNT\n",
        "#train the model\n",
        "lgs_count= LogisticRegression()\n",
        "lgs_count.fit(count_X,labels) \n",
        "\n",
        "#test the mode (score,predictions, confusion matrix, classification report)\n",
        "score_lgs_count =lgs_count.score(test_count_X, test_labels)\n",
        "predictions_lgs_count=lgs_count.predict(test_count_X)\n",
        "print(\"score is: \",score_lgs_count)\n",
        "print(\"prediction is: \",predictions_lgs_count)"
      ]
    },
    {
      "cell_type": "code",
      "execution_count": null,
      "metadata": {
        "id": "EZKoqs44gN3A",
        "colab": {
          "base_uri": "https://localhost:8080/"
        },
        "outputId": "66d48fea-e837-4571-bd77-53306035e0c7"
      },
      "outputs": [
        {
          "data": {
            "text/plain": [
              "array([[12629,  2377],\n",
              "       [  315, 68772]])"
            ]
          },
          "execution_count": 48,
          "metadata": {},
          "output_type": "execute_result"
        }
      ],
      "source": [
        "confusion_matrix(test_labels, predictions_lgs_count)"
      ]
    },
    {
      "cell_type": "code",
      "execution_count": null,
      "metadata": {
        "id": "7KYQvQOggN3B",
        "colab": {
          "base_uri": "https://localhost:8080/"
        },
        "outputId": "13a62a9a-f6c3-40fd-8fd8-5d7868b3b998"
      },
      "outputs": [
        {
          "metadata": {
            "tags": null
          },
          "name": "stdout",
          "output_type": "stream",
          "text": [
            "              precision    recall  f1-score   support\n",
            "\n",
            "         bad       0.98      0.84      0.90     15006\n",
            "        good       0.97      1.00      0.98     69087\n",
            "\n",
            "    accuracy                           0.97     84093\n",
            "   macro avg       0.97      0.92      0.94     84093\n",
            "weighted avg       0.97      0.97      0.97     84093\n",
            "\n"
          ]
        }
      ],
      "source": [
        "print(classification_report(test_labels,predictions_lgs_count))"
      ]
    },
    {
      "cell_type": "markdown",
      "metadata": {
        "id": "MiBtqb10gN3B"
      },
      "source": [
        "### LOGISTC REGRESSION WITH TF-IDF VECTORIZER"
      ]
    },
    {
      "cell_type": "code",
      "execution_count": null,
      "metadata": {
        "id": "ueOTB4Y6gN3B",
        "colab": {
          "base_uri": "https://localhost:8080/"
        },
        "outputId": "8753043c-3071-4643-d794-322951b14a30"
      },
      "outputs": [
        {
          "output_type": "stream",
          "name": "stderr",
          "text": [
            "/usr/local/lib/python3.8/dist-packages/sklearn/linear_model/_logistic.py:814: ConvergenceWarning: lbfgs failed to converge (status=1):\n",
            "STOP: TOTAL NO. of ITERATIONS REACHED LIMIT.\n",
            "\n",
            "Increase the number of iterations (max_iter) or scale the data as shown in:\n",
            "    https://scikit-learn.org/stable/modules/preprocessing.html\n",
            "Please also refer to the documentation for alternative solver options:\n",
            "    https://scikit-learn.org/stable/modules/linear_model.html#logistic-regression\n",
            "  n_iter_i = _check_optimize_result(\n"
          ]
        },
        {
          "output_type": "stream",
          "name": "stdout",
          "text": [
            "score is:  0.9563221671244931\n",
            "prediction is:  ['good' 'good' 'good' ... 'good' 'good' 'good']\n"
          ]
        }
      ],
      "source": [
        "# TRAIN THE MODEL \n",
        "lgs_tfidf = LogisticRegression()\n",
        "lgs_tfidf.fit(tfidf_X, labels)\n",
        "\n",
        "#test the mode (score,predictions, confusion matrix, classification report)\n",
        "score_lgs_tfidf=lgs_tfidf.score(test_tfidf_X, test_labels)\n",
        "predictions_lgs_tfidf=lgs_tfidf.predict(test_tfidf_X)\n",
        "print(\"score is: \",score_lgs_tfidf)\n",
        "print(\"prediction is: \",predictions_lgs_tfidf)"
      ]
    },
    {
      "cell_type": "code",
      "execution_count": null,
      "metadata": {
        "id": "5TINbWECgN3C"
      },
      "outputs": [],
      "source": [
        "confusion_matrix(test_labels, predictions_lgs_tfidf)"
      ]
    },
    {
      "cell_type": "code",
      "execution_count": null,
      "metadata": {
        "id": "_55YzQL_gN3C"
      },
      "outputs": [],
      "source": [
        "print(classification_report(test_labels,predictions_lgs_tfidf))"
      ]
    },
    {
      "cell_type": "code",
      "execution_count": null,
      "metadata": {
        "id": "V6yIGe77XdZL"
      },
      "outputs": [],
      "source": [
        "#Encoding the text data\n",
        "labelsEncoded = pd.get_dummies(labels)\n",
        "labelsEncoded = labelsEncoded.iloc[:,1]\n",
        "print(labelsEncoded)"
      ]
    },
    {
      "cell_type": "code",
      "execution_count": null,
      "metadata": {
        "id": "dezCdySlXunc",
        "colab": {
          "base_uri": "https://localhost:8080/"
        },
        "outputId": "c718db12-46aa-40b6-d9f0-2d8c52c05ed3"
      },
      "outputs": [
        {
          "output_type": "stream",
          "name": "stdout",
          "text": [
            "225499    1\n",
            "175136    1\n",
            "73600     1\n",
            "247657    1\n",
            "93782     1\n",
            "         ..\n",
            "52223     1\n",
            "142574    1\n",
            "73538     1\n",
            "235116    1\n",
            "110006    1\n",
            "Name: good, Length: 84093, dtype: uint8\n"
          ]
        }
      ],
      "source": [
        "labelsEncoded_test = pd.get_dummies(test_labels)\n",
        "labelsEncoded_test = labelsEncoded_test.iloc[:,1]\n",
        "print(labelsEncoded_test)"
      ]
    },
    {
      "cell_type": "code",
      "execution_count": null,
      "metadata": {
        "id": "pdWq-pxNYE1t"
      },
      "outputs": [],
      "source": [
        "# TRAIN THE MODEL \n",
        "#regressor_count = RandomForestRegressor(n_estimators = 2, random_state = 0)\n",
        "#regressor_count.fit(count_X,labelsEncoded)\n",
        "\n",
        "#test the model\n",
        "#score_regressor_count =regressor_count.score(test_count_X, labelsEncoded_test)\n",
        "#predictions_regressor_count=regressor_count.predict(test_count_X) "
      ]
    },
    {
      "cell_type": "code",
      "execution_count": null,
      "metadata": {
        "id": "rDcYDuvwY5iQ"
      },
      "outputs": [],
      "source": [
        "#print(\"score is: \",score_regressor_count) \n",
        "#print(\"prediction is: \",predictions_regressor_count)"
      ]
    },
    {
      "cell_type": "code",
      "execution_count": null,
      "metadata": {
        "id": "EabddAzfY663",
        "colab": {
          "base_uri": "https://localhost:8080/"
        },
        "outputId": "f0c71575-f1a2-40c3-b547-501791533660"
      },
      "outputs": [
        {
          "output_type": "stream",
          "name": "stdout",
          "text": [
            "Looking in indexes: https://pypi.org/simple, https://us-python.pkg.dev/colab-wheels/public/simple/\n",
            "Collecting fuzzywuzzy\n",
            "  Downloading fuzzywuzzy-0.18.0-py2.py3-none-any.whl (18 kB)\n",
            "Installing collected packages: fuzzywuzzy\n",
            "Successfully installed fuzzywuzzy-0.18.0\n"
          ]
        },
        {
          "output_type": "stream",
          "name": "stderr",
          "text": [
            "/usr/local/lib/python3.8/dist-packages/fuzzywuzzy/fuzz.py:11: UserWarning: Using slow pure-python SequenceMatcher. Install python-Levenshtein to remove this warning\n",
            "  warnings.warn('Using slow pure-python SequenceMatcher. Install python-Levenshtein to remove this warning')\n"
          ]
        }
      ],
      "source": [
        "!pip install fuzzywuzzy\n",
        "from fuzzywuzzy import process"
      ]
    },
    {
      "cell_type": "code",
      "execution_count": null,
      "metadata": {
        "id": "LWfwqjrT_Fwn",
        "colab": {
          "base_uri": "https://localhost:8080/"
        },
        "outputId": "b46442bb-39d0-4a18-d6f7-e65c8197d30d"
      },
      "outputs": [
        {
          "output_type": "stream",
          "name": "stdout",
          "text": [
            "                                                     URLs Class\n",
            "0                         freebase.com/view/en/bob_sirois  good\n",
            "1                          en.wikipedia.org/wiki/Joie_Lee  good\n",
            "2                pipl.com/directory/people/Rejean/Beaudin  good\n",
            "3       flickr.com/photos/teneyck/sets/72157610336209297/  good\n",
            "4       ussoccer.com/News/Federation-Services/2009/06/...  good\n",
            "...                                                   ...   ...\n",
            "420458               en.wikipedia.org/wiki/%C3%89quiterre  good\n",
            "420459  ourorigins.org/genealogielistfirstname.aspx?an...  good\n",
            "420461  kstatesports.com/sports/w-baskbl/spec-rel/ksu-...  good\n",
            "420462  vh1.com/video/living-colour/9128/cult-of-perso...  good\n",
            "420463     absoluteastronomy.com/topics/SummerSlam_(1990)  good\n",
            "\n",
            "[344821 rows x 2 columns]\n"
          ]
        }
      ],
      "source": [
        "goodlist=df.loc[df['Class']=='good']\n",
        "print(goodlist)"
      ]
    },
    {
      "cell_type": "code",
      "execution_count": null,
      "metadata": {
        "id": "QPb3ZkXB_SiT",
        "colab": {
          "base_uri": "https://localhost:8080/"
        },
        "outputId": "0e09487c-bae1-4d4a-c144-cb729da616f1"
      },
      "outputs": [
        {
          "output_type": "execute_result",
          "data": {
            "text/plain": [
              "(344821,)"
            ]
          },
          "metadata": {},
          "execution_count": 59
        }
      ],
      "source": [
        "goodlist=goodlist.iloc[:,0]\n",
        "goodlist.shape"
      ]
    },
    {
      "cell_type": "code",
      "execution_count": null,
      "metadata": {
        "id": "Qaw1u-zN_bNc",
        "colab": {
          "base_uri": "https://localhost:8080/"
        },
        "outputId": "8d3b6146-b846-47c1-bce0-c739138e3bab"
      },
      "outputs": [
        {
          "output_type": "execute_result",
          "data": {
            "text/plain": [
              "pandas.core.series.Series"
            ]
          },
          "metadata": {},
          "execution_count": 60
        }
      ],
      "source": [
        "type(goodlist)"
      ]
    },
    {
      "cell_type": "code",
      "execution_count": null,
      "metadata": {
        "id": "YGnTVc7z_e5e"
      },
      "outputs": [],
      "source": [
        "def get_matches(query,choices,limit=1):\n",
        "  results=process.extract(query,choices,limit=limit)\n",
        "  return results"
      ]
    },
    {
      "cell_type": "code",
      "source": [],
      "metadata": {
        "id": "f3hDNqPUotjk"
      },
      "execution_count": null,
      "outputs": []
    },
    {
      "cell_type": "code",
      "execution_count": null,
      "metadata": {
        "id": "cykbqk7QkW_g"
      },
      "outputs": [],
      "source": [
        "#get_matches(\"freebase.com/view/en/bob_sirois\",goodlist)"
      ]
    },
    {
      "cell_type": "code",
      "execution_count": null,
      "metadata": {
        "id": "f_wMAMZonFee"
      },
      "outputs": [],
      "source": [
        "from firebase_admin import ml"
      ]
    },
    {
      "cell_type": "code",
      "source": [
        "import h5py\n",
        "\n",
        "def save_coefficients(classifier, filename):\n",
        "    \"\"\"Save the coefficients of a linear model into a .h5 file.\"\"\"\n",
        "    with h5py.File(filename, 'w') as hf:\n",
        "        hf.create_dataset(\"coef\",  data=classifier.coef_)\n",
        "        hf.create_dataset(\"intercept\",  data=classifier.intercept_)\n",
        "        hf.create_dataset(\"classes\", data=classifier.classes_)\n",
        "\n",
        "def load_coefficients(classifier, filename):\n",
        "    \"\"\"Attach the saved coefficients to a linear model.\"\"\"\n",
        "    with h5py.File(filename, 'r') as hf:\n",
        "        coef = hf['coef'][:]\n",
        "        intercept = hf['intercept'][:]\n",
        "        classes = hf['classes'][:]\n",
        "    classifier.coef_ = coef\n",
        "    classifier.intercept_ = intercept\n",
        "    classifier.classes_ = classes\n"
      ],
      "metadata": {
        "id": "qfsI4Pb2rDXO"
      },
      "execution_count": null,
      "outputs": []
    },
    {
      "cell_type": "code",
      "execution_count": null,
      "metadata": {
        "id": "C1ioHEKNfvGE",
        "colab": {
          "base_uri": "https://localhost:8080/"
        },
        "outputId": "7d196404-b9c4-4e73-d556-d83a28af7778"
      },
      "outputs": [
        {
          "output_type": "stream",
          "name": "stderr",
          "text": [
            "/usr/local/lib/python3.8/dist-packages/sklearn/linear_model/_logistic.py:814: ConvergenceWarning: lbfgs failed to converge (status=1):\n",
            "STOP: TOTAL NO. of ITERATIONS REACHED LIMIT.\n",
            "\n",
            "Increase the number of iterations (max_iter) or scale the data as shown in:\n",
            "    https://scikit-learn.org/stable/modules/preprocessing.html\n",
            "Please also refer to the documentation for alternative solver options:\n",
            "    https://scikit-learn.org/stable/modules/linear_model.html#logistic-regression\n",
            "  n_iter_i = _check_optimize_result(\n"
          ]
        }
      ],
      "source": [
        "import tensorflow as tf\n",
        "\n",
        "model=lgs_count.fit(count_X,labels)\n",
        "save_coefficients(model, \"model.h5\")"
      ]
    },
    {
      "cell_type": "code",
      "source": [
        "lr = LogisticRegression()\n",
        "load_coefficients(lr, \"model.h5\")\n",
        "converter = tf.lite.TFLiteConverter.from_keras_model('/content/model.h5')\n",
        "#mdl = tf.keras.models.load_model('/content/model.h5')\n",
        "#converter = tf.lite.TFLiteConverter.from_keras_model(lr)\n",
        "#Optimisation Constraints \n",
        "converter.optimizations = [tf.lite.Optimize.DEFAULT] \n",
        "#Conversion and creation\n",
        "converter.experimental_new_converter = True\n",
        "tflite_model = converter.convert()\n",
        "#tflite_model_file = pathlib.Path('tflite_quant_model.tflite')\n",
        "#tflite_model_file.write_bytes(tflite_quant_model)"
      ],
      "metadata": {
        "colab": {
          "base_uri": "https://localhost:8080/",
          "height": 380
        },
        "id": "zpnRvFf3ryEJ",
        "outputId": "c21cadc8-ca8a-48cd-8d56-c562855cba3a"
      },
      "execution_count": null,
      "outputs": [
        {
          "output_type": "error",
          "ename": "AttributeError",
          "evalue": "ignored",
          "traceback": [
            "\u001b[0;31m---------------------------------------------------------------------------\u001b[0m",
            "\u001b[0;31mAttributeError\u001b[0m                            Traceback (most recent call last)",
            "\u001b[0;32m<ipython-input-127-6fc632161bbb>\u001b[0m in \u001b[0;36m<module>\u001b[0;34m\u001b[0m\n\u001b[1;32m      8\u001b[0m \u001b[0;31m#Conversion and creation\u001b[0m\u001b[0;34m\u001b[0m\u001b[0;34m\u001b[0m\u001b[0;34m\u001b[0m\u001b[0m\n\u001b[1;32m      9\u001b[0m \u001b[0mconverter\u001b[0m\u001b[0;34m.\u001b[0m\u001b[0mexperimental_new_converter\u001b[0m \u001b[0;34m=\u001b[0m \u001b[0;32mTrue\u001b[0m\u001b[0;34m\u001b[0m\u001b[0;34m\u001b[0m\u001b[0m\n\u001b[0;32m---> 10\u001b[0;31m \u001b[0mconverter\u001b[0m\u001b[0;34m.\u001b[0m\u001b[0mconvert\u001b[0m\u001b[0;34m(\u001b[0m\u001b[0;34m)\u001b[0m\u001b[0;34m\u001b[0m\u001b[0;34m\u001b[0m\u001b[0m\n\u001b[0m\u001b[1;32m     11\u001b[0m \u001b[0;31m#tflite_model_file = pathlib.Path('tflite_quant_model.tflite')\u001b[0m\u001b[0;34m\u001b[0m\u001b[0;34m\u001b[0m\u001b[0;34m\u001b[0m\u001b[0m\n\u001b[1;32m     12\u001b[0m \u001b[0;31m#tflite_model_file.write_bytes(tflite_quant_model)\u001b[0m\u001b[0;34m\u001b[0m\u001b[0;34m\u001b[0m\u001b[0;34m\u001b[0m\u001b[0m\n",
            "\u001b[0;32m/usr/local/lib/python3.8/dist-packages/tensorflow/lite/python/lite.py\u001b[0m in \u001b[0;36mwrapper\u001b[0;34m(self, *args, **kwargs)\u001b[0m\n\u001b[1;32m    927\u001b[0m   \u001b[0;32mdef\u001b[0m \u001b[0mwrapper\u001b[0m\u001b[0;34m(\u001b[0m\u001b[0mself\u001b[0m\u001b[0;34m,\u001b[0m \u001b[0;34m*\u001b[0m\u001b[0margs\u001b[0m\u001b[0;34m,\u001b[0m \u001b[0;34m**\u001b[0m\u001b[0mkwargs\u001b[0m\u001b[0;34m)\u001b[0m\u001b[0;34m:\u001b[0m\u001b[0;34m\u001b[0m\u001b[0;34m\u001b[0m\u001b[0m\n\u001b[1;32m    928\u001b[0m     \u001b[0;31m# pylint: disable=protected-access\u001b[0m\u001b[0;34m\u001b[0m\u001b[0;34m\u001b[0m\u001b[0;34m\u001b[0m\u001b[0m\n\u001b[0;32m--> 929\u001b[0;31m     \u001b[0;32mreturn\u001b[0m \u001b[0mself\u001b[0m\u001b[0;34m.\u001b[0m\u001b[0m_convert_and_export_metrics\u001b[0m\u001b[0;34m(\u001b[0m\u001b[0mconvert_func\u001b[0m\u001b[0;34m,\u001b[0m \u001b[0;34m*\u001b[0m\u001b[0margs\u001b[0m\u001b[0;34m,\u001b[0m \u001b[0;34m**\u001b[0m\u001b[0mkwargs\u001b[0m\u001b[0;34m)\u001b[0m\u001b[0;34m\u001b[0m\u001b[0;34m\u001b[0m\u001b[0m\n\u001b[0m\u001b[1;32m    930\u001b[0m     \u001b[0;31m# pylint: enable=protected-access\u001b[0m\u001b[0;34m\u001b[0m\u001b[0;34m\u001b[0m\u001b[0;34m\u001b[0m\u001b[0m\n\u001b[1;32m    931\u001b[0m \u001b[0;34m\u001b[0m\u001b[0m\n",
            "\u001b[0;32m/usr/local/lib/python3.8/dist-packages/tensorflow/lite/python/lite.py\u001b[0m in \u001b[0;36m_convert_and_export_metrics\u001b[0;34m(self, convert_func, *args, **kwargs)\u001b[0m\n\u001b[1;32m    906\u001b[0m     \u001b[0mself\u001b[0m\u001b[0;34m.\u001b[0m\u001b[0m_save_conversion_params_metric\u001b[0m\u001b[0;34m(\u001b[0m\u001b[0;34m)\u001b[0m\u001b[0;34m\u001b[0m\u001b[0;34m\u001b[0m\u001b[0m\n\u001b[1;32m    907\u001b[0m     \u001b[0mstart_time\u001b[0m \u001b[0;34m=\u001b[0m \u001b[0mtime\u001b[0m\u001b[0;34m.\u001b[0m\u001b[0mprocess_time\u001b[0m\u001b[0;34m(\u001b[0m\u001b[0;34m)\u001b[0m\u001b[0;34m\u001b[0m\u001b[0;34m\u001b[0m\u001b[0m\n\u001b[0;32m--> 908\u001b[0;31m     \u001b[0mresult\u001b[0m \u001b[0;34m=\u001b[0m \u001b[0mconvert_func\u001b[0m\u001b[0;34m(\u001b[0m\u001b[0mself\u001b[0m\u001b[0;34m,\u001b[0m \u001b[0;34m*\u001b[0m\u001b[0margs\u001b[0m\u001b[0;34m,\u001b[0m \u001b[0;34m**\u001b[0m\u001b[0mkwargs\u001b[0m\u001b[0;34m)\u001b[0m\u001b[0;34m\u001b[0m\u001b[0;34m\u001b[0m\u001b[0m\n\u001b[0m\u001b[1;32m    909\u001b[0m     \u001b[0melapsed_time_ms\u001b[0m \u001b[0;34m=\u001b[0m \u001b[0;34m(\u001b[0m\u001b[0mtime\u001b[0m\u001b[0;34m.\u001b[0m\u001b[0mprocess_time\u001b[0m\u001b[0;34m(\u001b[0m\u001b[0;34m)\u001b[0m \u001b[0;34m-\u001b[0m \u001b[0mstart_time\u001b[0m\u001b[0;34m)\u001b[0m \u001b[0;34m*\u001b[0m \u001b[0;36m1000\u001b[0m\u001b[0;34m\u001b[0m\u001b[0;34m\u001b[0m\u001b[0m\n\u001b[1;32m    910\u001b[0m     \u001b[0;32mif\u001b[0m \u001b[0mresult\u001b[0m\u001b[0;34m:\u001b[0m\u001b[0;34m\u001b[0m\u001b[0;34m\u001b[0m\u001b[0m\n",
            "\u001b[0;32m/usr/local/lib/python3.8/dist-packages/tensorflow/lite/python/lite.py\u001b[0m in \u001b[0;36mconvert\u001b[0;34m(self)\u001b[0m\n\u001b[1;32m   1341\u001b[0m \u001b[0;34m\u001b[0m\u001b[0m\n\u001b[1;32m   1342\u001b[0m     graph_def, input_tensors, output_tensors, frozen_func = (\n\u001b[0;32m-> 1343\u001b[0;31m         self._freeze_keras_model())\n\u001b[0m\u001b[1;32m   1344\u001b[0m \u001b[0;34m\u001b[0m\u001b[0m\n\u001b[1;32m   1345\u001b[0m     graph_def = self._optimize_tf_model(graph_def, input_tensors,\n",
            "\u001b[0;32m/usr/local/lib/python3.8/dist-packages/tensorflow/lite/python/convert_phase.py\u001b[0m in \u001b[0;36mwrapper\u001b[0;34m(*args, **kwargs)\u001b[0m\n\u001b[1;32m    213\u001b[0m       \u001b[0;32mexcept\u001b[0m \u001b[0mException\u001b[0m \u001b[0;32mas\u001b[0m \u001b[0merror\u001b[0m\u001b[0;34m:\u001b[0m\u001b[0;34m\u001b[0m\u001b[0;34m\u001b[0m\u001b[0m\n\u001b[1;32m    214\u001b[0m         \u001b[0mreport_error_message\u001b[0m\u001b[0;34m(\u001b[0m\u001b[0mstr\u001b[0m\u001b[0;34m(\u001b[0m\u001b[0merror\u001b[0m\u001b[0;34m)\u001b[0m\u001b[0;34m)\u001b[0m\u001b[0;34m\u001b[0m\u001b[0;34m\u001b[0m\u001b[0m\n\u001b[0;32m--> 215\u001b[0;31m         \u001b[0;32mraise\u001b[0m \u001b[0merror\u001b[0m \u001b[0;32mfrom\u001b[0m \u001b[0;32mNone\u001b[0m  \u001b[0;31m# Re-throws the exception.\u001b[0m\u001b[0;34m\u001b[0m\u001b[0;34m\u001b[0m\u001b[0m\n\u001b[0m\u001b[1;32m    216\u001b[0m \u001b[0;34m\u001b[0m\u001b[0m\n\u001b[1;32m    217\u001b[0m     \u001b[0;32mreturn\u001b[0m \u001b[0mwrapper\u001b[0m\u001b[0;34m\u001b[0m\u001b[0;34m\u001b[0m\u001b[0m\n",
            "\u001b[0;32m/usr/local/lib/python3.8/dist-packages/tensorflow/lite/python/convert_phase.py\u001b[0m in \u001b[0;36mwrapper\u001b[0;34m(*args, **kwargs)\u001b[0m\n\u001b[1;32m    203\u001b[0m     \u001b[0;32mdef\u001b[0m \u001b[0mwrapper\u001b[0m\u001b[0;34m(\u001b[0m\u001b[0;34m*\u001b[0m\u001b[0margs\u001b[0m\u001b[0;34m,\u001b[0m \u001b[0;34m**\u001b[0m\u001b[0mkwargs\u001b[0m\u001b[0;34m)\u001b[0m\u001b[0;34m:\u001b[0m\u001b[0;34m\u001b[0m\u001b[0;34m\u001b[0m\u001b[0m\n\u001b[1;32m    204\u001b[0m       \u001b[0;32mtry\u001b[0m\u001b[0;34m:\u001b[0m\u001b[0;34m\u001b[0m\u001b[0;34m\u001b[0m\u001b[0m\n\u001b[0;32m--> 205\u001b[0;31m         \u001b[0;32mreturn\u001b[0m \u001b[0mfunc\u001b[0m\u001b[0;34m(\u001b[0m\u001b[0;34m*\u001b[0m\u001b[0margs\u001b[0m\u001b[0;34m,\u001b[0m \u001b[0;34m**\u001b[0m\u001b[0mkwargs\u001b[0m\u001b[0;34m)\u001b[0m\u001b[0;34m\u001b[0m\u001b[0;34m\u001b[0m\u001b[0m\n\u001b[0m\u001b[1;32m    206\u001b[0m       \u001b[0;32mexcept\u001b[0m \u001b[0mConverterError\u001b[0m \u001b[0;32mas\u001b[0m \u001b[0mconverter_error\u001b[0m\u001b[0;34m:\u001b[0m\u001b[0;34m\u001b[0m\u001b[0;34m\u001b[0m\u001b[0m\n\u001b[1;32m    207\u001b[0m         \u001b[0;32mif\u001b[0m \u001b[0mconverter_error\u001b[0m\u001b[0;34m.\u001b[0m\u001b[0merrors\u001b[0m\u001b[0;34m:\u001b[0m\u001b[0;34m\u001b[0m\u001b[0;34m\u001b[0m\u001b[0m\n",
            "\u001b[0;32m/usr/local/lib/python3.8/dist-packages/tensorflow/lite/python/lite.py\u001b[0m in \u001b[0;36m_freeze_keras_model\u001b[0;34m(self)\u001b[0m\n\u001b[1;32m   1284\u001b[0m     \u001b[0;31m# to None.\u001b[0m\u001b[0;34m\u001b[0m\u001b[0;34m\u001b[0m\u001b[0;34m\u001b[0m\u001b[0m\n\u001b[1;32m   1285\u001b[0m     \u001b[0;31m# Once we have better support for dynamic shapes, we can remove this.\u001b[0m\u001b[0;34m\u001b[0m\u001b[0;34m\u001b[0m\u001b[0;34m\u001b[0m\u001b[0m\n\u001b[0;32m-> 1286\u001b[0;31m     \u001b[0;32mif\u001b[0m \u001b[0;32mnot\u001b[0m \u001b[0misinstance\u001b[0m\u001b[0;34m(\u001b[0m\u001b[0mself\u001b[0m\u001b[0;34m.\u001b[0m\u001b[0m_keras_model\u001b[0m\u001b[0;34m.\u001b[0m\u001b[0mcall\u001b[0m\u001b[0;34m,\u001b[0m \u001b[0m_def_function\u001b[0m\u001b[0;34m.\u001b[0m\u001b[0mFunction\u001b[0m\u001b[0;34m)\u001b[0m\u001b[0;34m:\u001b[0m\u001b[0;34m\u001b[0m\u001b[0;34m\u001b[0m\u001b[0m\n\u001b[0m\u001b[1;32m   1287\u001b[0m       \u001b[0;31m# Pass `keep_original_batch_size=True` will ensure that we get an input\u001b[0m\u001b[0;34m\u001b[0m\u001b[0;34m\u001b[0m\u001b[0;34m\u001b[0m\u001b[0m\n\u001b[1;32m   1288\u001b[0m       \u001b[0;31m# signature including the batch dimension specified by the user.\u001b[0m\u001b[0;34m\u001b[0m\u001b[0;34m\u001b[0m\u001b[0;34m\u001b[0m\u001b[0m\n",
            "\u001b[0;31mAttributeError\u001b[0m: 'str' object has no attribute 'call'"
          ]
        }
      ]
    }
  ],
  "metadata": {
    "colab": {
      "provenance": [],
      "include_colab_link": true
    },
    "kernelspec": {
      "display_name": "Python 3",
      "language": "python",
      "name": "python3"
    },
    "language_info": {
      "codemirror_mode": {
        "name": "ipython",
        "version": 3
      },
      "file_extension": ".py",
      "mimetype": "text/x-python",
      "name": "python",
      "nbconvert_exporter": "python",
      "pygments_lexer": "ipython3",
      "version": "3.7.6"
    }
  },
  "nbformat": 4,
  "nbformat_minor": 0
}